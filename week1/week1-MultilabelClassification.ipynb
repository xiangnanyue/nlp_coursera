{
 "cells": [
  {
   "cell_type": "markdown",
   "metadata": {},
   "source": [
    "# Predict tags on StackOverflow with linear models"
   ]
  },
  {
   "cell_type": "markdown",
   "metadata": {},
   "source": [
    "In this assignment you will learn how to predict tags for posts from [StackOverflow](https://stackoverflow.com). To solve this task you will use multilabel classification approach.\n",
    "\n",
    "### Libraries\n",
    "\n",
    "In this task you will need the following libraries:\n",
    "- [Numpy](http://www.numpy.org) — a package for scientific computing.\n",
    "- [Pandas](https://pandas.pydata.org) — a library providing high-performance, easy-to-use data structures and data analysis tools for the Python\n",
    "- [scikit-learn](http://scikit-learn.org/stable/index.html) — a tool for data mining and data analysis.\n",
    "- [NLTK](http://www.nltk.org) — a platform to work with natural language."
   ]
  },
  {
   "cell_type": "markdown",
   "metadata": {},
   "source": [
    "### Data\n",
    "\n",
    "The following cell will download all data required for this assignment into the folder `week1/data`."
   ]
  },
  {
   "cell_type": "code",
   "execution_count": 1,
   "metadata": {},
   "outputs": [
    {
     "name": "stdout",
     "output_type": "stream",
     "text": [
      "File data/train.tsv is already downloaded.\n",
      "File data/validation.tsv is already downloaded.\n",
      "File data/test.tsv is already downloaded.\n",
      "File data/text_prepare_tests.tsv is already downloaded.\n"
     ]
    }
   ],
   "source": [
    "import sys\n",
    "sys.path.append(\"..\")\n",
    "from common.download_utils import download_week1_resources\n",
    "\n",
    "download_week1_resources()"
   ]
  },
  {
   "cell_type": "markdown",
   "metadata": {},
   "source": [
    "### Grading\n",
    "We will create a grader instance below and use it to collect your answers. Note that these outputs will be stored locally inside grader and will be uploaded to platform only after running submitting function in the last part of this assignment. If you want to make partial submission, you can run that cell any time you want."
   ]
  },
  {
   "cell_type": "code",
   "execution_count": 2,
   "metadata": {},
   "outputs": [],
   "source": [
    "from grader import Grader"
   ]
  },
  {
   "cell_type": "code",
   "execution_count": 3,
   "metadata": {},
   "outputs": [],
   "source": [
    "grader = Grader()"
   ]
  },
  {
   "cell_type": "markdown",
   "metadata": {},
   "source": [
    "### Text preprocessing"
   ]
  },
  {
   "cell_type": "markdown",
   "metadata": {},
   "source": [
    "For this and most of the following assignments you will need to use a list of stop words. It can be downloaded from *nltk*:"
   ]
  },
  {
   "cell_type": "code",
   "execution_count": 4,
   "metadata": {},
   "outputs": [
    {
     "name": "stdout",
     "output_type": "stream",
     "text": [
      "[nltk_data] Downloading package stopwords to /root/nltk_data...\n",
      "[nltk_data]   Package stopwords is already up-to-date!\n"
     ]
    }
   ],
   "source": [
    "import nltk\n",
    "nltk.download('stopwords')\n",
    "from nltk.corpus import stopwords"
   ]
  },
  {
   "cell_type": "markdown",
   "metadata": {},
   "source": [
    "In this task you will deal with a dataset of post titles from StackOverflow. You are provided a split to 3 sets: *train*, *validation* and *test*. All corpora (except for *test*) contain titles of the posts and corresponding tags (100 tags are available). The *test* set is provided for Coursera's grading and doesn't contain answers. Upload the corpora using *pandas* and look at the data:"
   ]
  },
  {
   "cell_type": "code",
   "execution_count": 5,
   "metadata": {},
   "outputs": [],
   "source": [
    "from ast import literal_eval\n",
    "import pandas as pd\n",
    "import numpy as np"
   ]
  },
  {
   "cell_type": "code",
   "execution_count": 8,
   "metadata": {},
   "outputs": [],
   "source": [
    "def read_data(filename):\n",
    "    data = pd.read_csv(filename, sep='\\t')\n",
    "    data['tags'] = data['tags'].apply(literal_eval)\n",
    "    return data"
   ]
  },
  {
   "cell_type": "code",
   "execution_count": 9,
   "metadata": {},
   "outputs": [],
   "source": [
    "train = read_data('data/train.tsv')\n",
    "validation = read_data('data/validation.tsv')\n",
    "test = pd.read_csv('data/test.tsv', sep='\\t')"
   ]
  },
  {
   "cell_type": "code",
   "execution_count": 10,
   "metadata": {},
   "outputs": [
    {
     "data": {
      "text/html": [
       "<div>\n",
       "<style scoped>\n",
       "    .dataframe tbody tr th:only-of-type {\n",
       "        vertical-align: middle;\n",
       "    }\n",
       "\n",
       "    .dataframe tbody tr th {\n",
       "        vertical-align: top;\n",
       "    }\n",
       "\n",
       "    .dataframe thead th {\n",
       "        text-align: right;\n",
       "    }\n",
       "</style>\n",
       "<table border=\"1\" class=\"dataframe\">\n",
       "  <thead>\n",
       "    <tr style=\"text-align: right;\">\n",
       "      <th></th>\n",
       "      <th>title</th>\n",
       "      <th>tags</th>\n",
       "    </tr>\n",
       "  </thead>\n",
       "  <tbody>\n",
       "    <tr>\n",
       "      <th>0</th>\n",
       "      <td>How to draw a stacked dotplot in R?</td>\n",
       "      <td>[r]</td>\n",
       "    </tr>\n",
       "    <tr>\n",
       "      <th>1</th>\n",
       "      <td>mysql select all records where a datetime fiel...</td>\n",
       "      <td>[php, mysql]</td>\n",
       "    </tr>\n",
       "    <tr>\n",
       "      <th>2</th>\n",
       "      <td>How to terminate windows phone 8.1 app</td>\n",
       "      <td>[c#]</td>\n",
       "    </tr>\n",
       "    <tr>\n",
       "      <th>3</th>\n",
       "      <td>get current time in a specific country via jquery</td>\n",
       "      <td>[javascript, jquery]</td>\n",
       "    </tr>\n",
       "    <tr>\n",
       "      <th>4</th>\n",
       "      <td>Configuring Tomcat to Use SSL</td>\n",
       "      <td>[java]</td>\n",
       "    </tr>\n",
       "  </tbody>\n",
       "</table>\n",
       "</div>"
      ],
      "text/plain": [
       "                                               title                  tags\n",
       "0                How to draw a stacked dotplot in R?                   [r]\n",
       "1  mysql select all records where a datetime fiel...          [php, mysql]\n",
       "2             How to terminate windows phone 8.1 app                  [c#]\n",
       "3  get current time in a specific country via jquery  [javascript, jquery]\n",
       "4                      Configuring Tomcat to Use SSL                [java]"
      ]
     },
     "execution_count": 10,
     "metadata": {},
     "output_type": "execute_result"
    }
   ],
   "source": [
    "train.head()"
   ]
  },
  {
   "cell_type": "markdown",
   "metadata": {},
   "source": [
    "As you can see, *title* column contains titles of the posts and *tags* column contains the tags. It could be noticed that a number of tags for a post is not fixed and could be as many as necessary."
   ]
  },
  {
   "cell_type": "markdown",
   "metadata": {},
   "source": [
    "For a more comfortable usage, initialize *X_train*, *X_val*, *X_test*, *y_train*, *y_val*."
   ]
  },
  {
   "cell_type": "code",
   "execution_count": 129,
   "metadata": {},
   "outputs": [],
   "source": [
    "X_train, y_train = train['title'].values, train['tags'].values\n",
    "X_val, y_val = validation['title'].values, validation['tags'].values\n",
    "X_test = test['title'].values"
   ]
  },
  {
   "cell_type": "markdown",
   "metadata": {},
   "source": [
    "One of the most known difficulties when working with natural data is that it's unstructured. For example, if you use it \"as is\" and extract tokens just by splitting the titles by whitespaces, you will see that there are many \"weird\" tokens like *3.5?*, *\"Flip*, etc. To prevent the problems, it's usually useful to prepare the data somehow. In this task you'll write a function, which will be also used in the other assignments. \n",
    "\n",
    "**Task 1 (TextPrepare).** Implement the function *text_prepare* following the instructions. After that, run the function *test_test_prepare* to test it on tiny cases and submit it to Coursera."
   ]
  },
  {
   "cell_type": "code",
   "execution_count": 130,
   "metadata": {},
   "outputs": [],
   "source": [
    "import re\n",
    "REPLACE_BY_SPACE_RE = re.compile('[/(){}\\[\\]\\|@,;]')"
   ]
  },
  {
   "cell_type": "code",
   "execution_count": 131,
   "metadata": {},
   "outputs": [
    {
     "data": {
      "text/plain": [
       "'yu are good'"
      ]
     },
     "execution_count": 131,
     "metadata": {},
     "output_type": "execute_result"
    }
   ],
   "source": [
    "REPLACE_BY_SPACE_RE.sub(repl=\" \", string=\"yu@are@good\")"
   ]
  },
  {
   "cell_type": "code",
   "execution_count": 132,
   "metadata": {},
   "outputs": [
    {
     "data": {
      "text/plain": [
       "'yu are good'"
      ]
     },
     "execution_count": 132,
     "metadata": {},
     "output_type": "execute_result"
    }
   ],
   "source": [
    "re.sub(pattern=REPLACE_BY_SPACE_RE, repl=\" \", string=\"yu@are@good\")"
   ]
  },
  {
   "cell_type": "code",
   "execution_count": 133,
   "metadata": {},
   "outputs": [],
   "source": [
    "REPLACE_BY_SPACE_RE = re.compile('[/(){}\\[\\]\\|@,;]')\n",
    "BAD_SYMBOLS_RE = re.compile('[^0-9a-z #+_]')\n",
    "STOPWORDS = set(stopwords.words('english'))\n",
    "\n",
    "def text_prepare(text):\n",
    "    \"\"\"\n",
    "        text: a string\n",
    "        \n",
    "        return: modified initial string\n",
    "    \"\"\"\n",
    "    text = text.lower()  # lowercase text\n",
    "    text = re.sub(pattern=REPLACE_BY_SPACE_RE, repl=\" \", string=text)# replace REPLACE_BY_SPACE_RE symbols by space in text\n",
    "    text = re.sub(pattern=BAD_SYMBOLS_RE, repl=\"\", string=text)# delete symbols which are in BAD_SYMBOLS_RE from text\n",
    "    text = \" \".join([word for word in text.split() if word not in STOPWORDS])# delete stopwords from text\n",
    "    return text"
   ]
  },
  {
   "cell_type": "code",
   "execution_count": 134,
   "metadata": {},
   "outputs": [],
   "source": [
    "def test_text_prepare():\n",
    "    examples = [\"SQL Server - any equivalent of Excel's CHOOSE function?\",\n",
    "                \"How to free c++ memory vector<int> * arr?\"]\n",
    "    answers = [\"sql server equivalent excels choose function\", \n",
    "               \"free c++ memory vectorint arr\"]\n",
    "    for ex, ans in zip(examples, answers):\n",
    "        if text_prepare(ex) != ans:\n",
    "            #print(text_prepare(ex), ans)\n",
    "            return \"Wrong answer for the case: '%s'\" % ex\n",
    "    return 'Basic tests are passed.'"
   ]
  },
  {
   "cell_type": "code",
   "execution_count": 135,
   "metadata": {},
   "outputs": [
    {
     "name": "stdout",
     "output_type": "stream",
     "text": [
      "Basic tests are passed.\n"
     ]
    }
   ],
   "source": [
    "print(test_text_prepare())"
   ]
  },
  {
   "cell_type": "markdown",
   "metadata": {},
   "source": [
    "Run your implementation for questions from file *text_prepare_tests.tsv* to earn the points."
   ]
  },
  {
   "cell_type": "code",
   "execution_count": 136,
   "metadata": {},
   "outputs": [
    {
     "name": "stdout",
     "output_type": "stream",
     "text": [
      "Current answer for task TextPrepare is:\n",
      " sqlite php readonly\n",
      "creating multiple textboxes dynamically\n",
      "self one prefer javascript\n",
      "save php date...\n"
     ]
    }
   ],
   "source": [
    "prepared_questions = []\n",
    "for line in open('data/text_prepare_tests.tsv', encoding='utf-8'):\n",
    "    line = text_prepare(line.strip())\n",
    "    prepared_questions.append(line)\n",
    "text_prepare_results = '\\n'.join(prepared_questions)\n",
    "\n",
    "grader.submit_tag('TextPrepare', text_prepare_results)"
   ]
  },
  {
   "cell_type": "markdown",
   "metadata": {},
   "source": [
    "Now we can preprocess the titles using function *text_prepare* and  making sure that the headers don't have bad symbols:"
   ]
  },
  {
   "cell_type": "code",
   "execution_count": 137,
   "metadata": {},
   "outputs": [],
   "source": [
    "X_train = [text_prepare(x) for x in X_train]\n",
    "X_val = [text_prepare(x) for x in X_val]\n",
    "X_test = [text_prepare(x) for x in X_test]"
   ]
  },
  {
   "cell_type": "code",
   "execution_count": 138,
   "metadata": {},
   "outputs": [
    {
     "data": {
      "text/plain": [
       "(['draw stacked dotplot r',\n",
       "  'mysql select records datetime field less specified value',\n",
       "  'terminate windows phone 81 app'],\n",
       " 0             [r]\n",
       " 1    [php, mysql]\n",
       " 2            [c#]\n",
       " Name: tags, dtype: object)"
      ]
     },
     "execution_count": 138,
     "metadata": {},
     "output_type": "execute_result"
    }
   ],
   "source": [
    "X_train[:3], train[\"tags\"][:3]"
   ]
  },
  {
   "cell_type": "code",
   "execution_count": 139,
   "metadata": {},
   "outputs": [
    {
     "data": {
      "text/plain": [
       "100000"
      ]
     },
     "execution_count": 139,
     "metadata": {},
     "output_type": "execute_result"
    }
   ],
   "source": [
    "len(X_train)"
   ]
  },
  {
   "cell_type": "markdown",
   "metadata": {},
   "source": [
    "For each tag and for each word calculate how many times they occur in the train corpus. \n",
    "\n",
    "**Task 2 (WordsTagsCount).** Find 3 most popular tags and 3 most popular words in the train data and submit the results to earn the points."
   ]
  },
  {
   "cell_type": "code",
   "execution_count": 140,
   "metadata": {},
   "outputs": [],
   "source": [
    "# Dictionary of all tags from train corpus with their counts.\n",
    "tags_counts = {}\n",
    "# Dictionary of all words from train corpus with their counts.\n",
    "words_counts = {}\n",
    "\n",
    "######################################\n",
    "######### YOUR CODE HERE #############\n",
    "######################################\n",
    "for tags in train[\"tags\"]:\n",
    "    for tag in tags:\n",
    "        if tags_counts.get(tag) is None:\n",
    "            tags_counts[tag] = 1\n",
    "        else:\n",
    "            tags_counts[tag] += 1\n",
    "\n",
    "for sentence in X_train:\n",
    "    for word in sentence.split():\n",
    "        if words_counts.get(word) is None:\n",
    "            words_counts[word] = 1\n",
    "        else:\n",
    "            words_counts[word] += 1\n",
    "\n"
   ]
  },
  {
   "cell_type": "markdown",
   "metadata": {},
   "source": [
    "We are assuming that *tags_counts* and *words_counts* are dictionaries like `{'some_word_or_tag': frequency}`. After applying the sorting procedure, results will be look like this: `[('most_popular_word_or_tag', frequency), ('less_popular_word_or_tag', frequency), ...]`. The grader gets the results in the following format (two comma-separated strings with line break):\n",
    "\n",
    "    tag1,tag2,tag3\n",
    "    word1,word2,word3\n",
    "\n",
    "Pay attention that in this assignment you should not submit frequencies or some additional information."
   ]
  },
  {
   "cell_type": "code",
   "execution_count": 141,
   "metadata": {},
   "outputs": [
    {
     "name": "stdout",
     "output_type": "stream",
     "text": [
      "Current answer for task WordsTagsCount is:\n",
      " javascript,c#,java\n",
      "using,php,java...\n"
     ]
    }
   ],
   "source": [
    "most_common_tags = sorted(tags_counts.items(), key=lambda x: x[1], reverse=True)[:3]\n",
    "most_common_words = sorted(words_counts.items(), key=lambda x: x[1], reverse=True)[:3]\n",
    "\n",
    "grader.submit_tag('WordsTagsCount', '%s\\n%s' % (','.join(tag for tag, _ in most_common_tags), \n",
    "                                                ','.join(word for word, _ in most_common_words)))"
   ]
  },
  {
   "cell_type": "markdown",
   "metadata": {},
   "source": [
    "### Transforming text to a vector\n",
    "\n",
    "Machine Learning algorithms work with numeric data and we cannot use the provided text data \"as is\". There are many ways to transform text data to numeric vectors. In this task you will try to use two of them.\n",
    "\n",
    "#### Bag of words\n",
    "\n",
    "One of the well-known approaches is a *bag-of-words* representation. To create this transformation, follow the steps:\n",
    "1. Find *N* most popular words in train corpus and numerate them. Now we have a dictionary of the most popular words.\n",
    "2. For each title in the corpora create a zero vector with the dimension equals to *N*.\n",
    "3. For each text in the corpora iterate over words which are in the dictionary and increase by 1 the corresponding coordinate.\n",
    "\n",
    "Let's try to do it for a toy example. Imagine that we have *N* = 4 and the list of the most popular words is \n",
    "\n",
    "    ['hi', 'you', 'me', 'are']\n",
    "\n",
    "Then we need to numerate them, for example, like this: \n",
    "\n",
    "    {'hi': 0, 'you': 1, 'me': 2, 'are': 3}\n",
    "\n",
    "And we have the text, which we want to transform to the vector:\n",
    "\n",
    "    'hi how are you'\n",
    "\n",
    "For this text we create a corresponding zero vector \n",
    "\n",
    "    [0, 0, 0, 0]\n",
    "    \n",
    "And iterate over all words, and if the word is in the dictionary, we increase the value of the corresponding position in the vector:\n",
    "\n",
    "    'hi':  [1, 0, 0, 0]\n",
    "    'how': [1, 0, 0, 0] # word 'how' is not in our dictionary\n",
    "    'are': [1, 0, 0, 1]\n",
    "    'you': [1, 1, 0, 1]\n",
    "\n",
    "The resulting vector will be \n",
    "\n",
    "    [1, 1, 0, 1]\n",
    "   \n",
    "Implement the described encoding in the function *my_bag_of_words* with the size of the dictionary equals to 5000. To find the most common words use train data. You can test your code using the function *test_my_bag_of_words*."
   ]
  },
  {
   "cell_type": "code",
   "execution_count": 142,
   "metadata": {},
   "outputs": [],
   "source": [
    "DICT_SIZE = 5000\n",
    "most_common_words_ = sorted(words_counts.items(), key=lambda x: x[1], reverse=True)[:DICT_SIZE]\n",
    "WORDS_TO_INDEX = {word[0]:i for i, word in enumerate(most_common_words_)} ####### YOUR CODE HERE #######\n",
    "INDEX_TO_WORDS = {i:word[0] for i, word in enumerate(most_common_words_) }####### YOUR CODE HERE #######\n",
    "ALL_WORDS = WORDS_TO_INDEX.keys()\n",
    "\n",
    "def my_bag_of_words(text, words_to_index, dict_size):\n",
    "    \"\"\"\n",
    "        text: a string\n",
    "        dict_size: size of the dictionary\n",
    "        \n",
    "        return a vector which is a bag-of-words representation of 'text'\n",
    "    \"\"\"\n",
    "    \n",
    "    result_vector = np.zeros(dict_size)\n",
    "    for word in text.split():\n",
    "        if words_to_index.get(word) is None:\n",
    "            continue\n",
    "        else:\n",
    "            IDX = words_to_index[word]\n",
    "            result_vector[IDX] += 1\n",
    "            \n",
    "    ######################################\n",
    "    ######### YOUR CODE HERE #############\n",
    "    ######################################\n",
    "    return result_vector"
   ]
  },
  {
   "cell_type": "code",
   "execution_count": 143,
   "metadata": {},
   "outputs": [],
   "source": [
    "def test_my_bag_of_words():\n",
    "    words_to_index = {'hi': 0, 'you': 1, 'me': 2, 'are': 3}\n",
    "    examples = ['hi how are you']\n",
    "    answers = [[1, 1, 0, 1]]\n",
    "    for ex, ans in zip(examples, answers):\n",
    "        if (my_bag_of_words(ex, words_to_index, 4) != ans).any():\n",
    "            return \"Wrong answer for the case: '%s'\" % ex\n",
    "    return 'Basic tests are passed.'"
   ]
  },
  {
   "cell_type": "code",
   "execution_count": 144,
   "metadata": {},
   "outputs": [
    {
     "name": "stdout",
     "output_type": "stream",
     "text": [
      "Basic tests are passed.\n"
     ]
    }
   ],
   "source": [
    "print(test_my_bag_of_words())"
   ]
  },
  {
   "cell_type": "markdown",
   "metadata": {},
   "source": [
    "Now apply the implemented function to all samples (this might take up to a minute):"
   ]
  },
  {
   "cell_type": "code",
   "execution_count": 145,
   "metadata": {},
   "outputs": [],
   "source": [
    "from scipy import sparse as sp_sparse"
   ]
  },
  {
   "cell_type": "code",
   "execution_count": 146,
   "metadata": {},
   "outputs": [
    {
     "name": "stdout",
     "output_type": "stream",
     "text": [
      "X_train shape  (100000, 5000)\n",
      "X_val shape  (30000, 5000)\n",
      "X_test shape  (20000, 5000)\n"
     ]
    }
   ],
   "source": [
    "X_train_mybag = sp_sparse.vstack([sp_sparse.csr_matrix(my_bag_of_words(text, WORDS_TO_INDEX, DICT_SIZE)) for text in X_train])\n",
    "X_val_mybag = sp_sparse.vstack([sp_sparse.csr_matrix(my_bag_of_words(text, WORDS_TO_INDEX, DICT_SIZE)) for text in X_val])\n",
    "X_test_mybag = sp_sparse.vstack([sp_sparse.csr_matrix(my_bag_of_words(text, WORDS_TO_INDEX, DICT_SIZE)) for text in X_test])\n",
    "print('X_train shape ', X_train_mybag.shape)\n",
    "print('X_val shape ', X_val_mybag.shape)\n",
    "print('X_test shape ', X_test_mybag.shape)"
   ]
  },
  {
   "cell_type": "code",
   "execution_count": 147,
   "metadata": {},
   "outputs": [
    {
     "data": {
      "text/plain": [
       "{'hanging': 3644,\n",
       " 'cakephp': 610,\n",
       " 'allocate': 2129,\n",
       " 'optimized': 3586,\n",
       " 'outofmemoryexception': 4199,\n",
       " 'virtualenv': 2281,\n",
       " 'glassfish': 1626,\n",
       " 'game': 596,\n",
       " 'instant': 4646,\n",
       " 'bundle': 1031,\n",
       " 'bot': 3326,\n",
       " 'frameworks': 1922,\n",
       " 'cached': 3005,\n",
       " 'relevant': 4892,\n",
       " 'aligned': 3456,\n",
       " 'seperate': 3327,\n",
       " '43': 3230,\n",
       " 'multipart': 1900,\n",
       " 'assert': 3257,\n",
       " 'away': 2486,\n",
       " 'realm': 2148,\n",
       " 'pro': 4143,\n",
       " 'maintain': 2070,\n",
       " 'csrf': 2138,\n",
       " 'directories': 2162,\n",
       " 'jobs': 2909,\n",
       " '71': 4403,\n",
       " 'go': 956,\n",
       " 'pm': 2950,\n",
       " 'dont': 679,\n",
       " 'prev': 3919,\n",
       " 'mockito': 1394,\n",
       " 'cast': 429,\n",
       " 'sentence': 2366,\n",
       " 'structs': 1406,\n",
       " 'pygame': 1407,\n",
       " 'dealing': 2054,\n",
       " 'tweet': 3798,\n",
       " 'linkbutton': 3293,\n",
       " 'paste': 1974,\n",
       " 'enumeration': 2604,\n",
       " 'send': 142,\n",
       " 'automating': 4444,\n",
       " 'phase': 4439,\n",
       " 'mono': 1831,\n",
       " 'alphabetical': 3095,\n",
       " 'plugin': 396,\n",
       " 'allowed': 885,\n",
       " 'tkinter': 661,\n",
       " 'blank': 862,\n",
       " 'serialization': 869,\n",
       " 'makes': 1673,\n",
       " 'websocket': 1277,\n",
       " 'tcp': 887,\n",
       " 'variables': 133,\n",
       " 'websockets': 2776,\n",
       " 'executable': 1155,\n",
       " 'phpfpm': 3067,\n",
       " 'struct': 517,\n",
       " 'stack': 682,\n",
       " 'suggestions': 3400,\n",
       " 'htaccess': 780,\n",
       " 'subview': 2288,\n",
       " 'enums': 1650,\n",
       " 'constructed': 4238,\n",
       " 'importing': 879,\n",
       " 'sender': 3361,\n",
       " 'rewriting': 3552,\n",
       " 'jbuttons': 4621,\n",
       " 'shell_exec': 4089,\n",
       " 'multidimensional': 629,\n",
       " 'templating': 4869,\n",
       " 'mysql2': 3940,\n",
       " 'effects': 2854,\n",
       " 'bubble': 2755,\n",
       " 'des': 4421,\n",
       " 'heap': 1030,\n",
       " 'lock': 974,\n",
       " '20': 619,\n",
       " 'jackson': 908,\n",
       " 'vbscript': 3587,\n",
       " 'reactnative': 3995,\n",
       " 'windsor': 3969,\n",
       " 'jqueryajax': 3136,\n",
       " 'written': 1576,\n",
       " 'scatterplot': 4649,\n",
       " 'jade': 2611,\n",
       " 'v': 2351,\n",
       " 'markup': 3640,\n",
       " 'receiver': 4042,\n",
       " 'scrollable': 3208,\n",
       " 'placing': 4218,\n",
       " 'correctly': 505,\n",
       " 'radiobutton': 2989,\n",
       " 'named': 620,\n",
       " 'mainwindow': 3740,\n",
       " 'pretty': 3962,\n",
       " 'requirement': 4511,\n",
       " 'typedef': 3414,\n",
       " 'font': 759,\n",
       " 'javalangunsatisfiedlinkerror': 4304,\n",
       " 'accepting': 2870,\n",
       " 'reversing': 3876,\n",
       " 'solve': 1099,\n",
       " 'nbsp': 4896,\n",
       " 'argument': 359,\n",
       " 'turn': 1178,\n",
       " 'executed': 1765,\n",
       " 'javaiofilenotfoundexception': 4404,\n",
       " 'onmouseover': 3006,\n",
       " 'dashes': 4647,\n",
       " '#1': 4819,\n",
       " 'htmlagilitypack': 2462,\n",
       " 'clicked': 638,\n",
       " 'rate': 2761,\n",
       " 'filtered': 4016,\n",
       " 'measure': 2234,\n",
       " 'circular': 1821,\n",
       " 'localstorage': 1644,\n",
       " 'cloning': 3198,\n",
       " 'webkit': 2594,\n",
       " 'happening': 3898,\n",
       " 'incompatible': 1247,\n",
       " 'interest': 4164,\n",
       " 'intellij': 838,\n",
       " 'given': 358,\n",
       " 'json': 37,\n",
       " 'versioning': 4268,\n",
       " 'insensitive': 2463,\n",
       " 'possibly': 3801,\n",
       " 'prestashop': 3569,\n",
       " 'density': 3502,\n",
       " 'embedding': 2569,\n",
       " '255': 4854,\n",
       " 'mail': 588,\n",
       " 'nearest': 2579,\n",
       " 'video': 354,\n",
       " 'javadoc': 2448,\n",
       " 'invalidate': 3946,\n",
       " 'configure': 796,\n",
       " 'wcf': 381,\n",
       " 'itemssource': 3645,\n",
       " 'acting': 4165,\n",
       " 'exists': 391,\n",
       " 'whether': 820,\n",
       " 'contents': 541,\n",
       " 'node': 357,\n",
       " 'terminated': 2978,\n",
       " 'saying': 4757,\n",
       " 'activation': 3520,\n",
       " 'java': 2,\n",
       " 'oauth': 1212,\n",
       " 'win32': 1095,\n",
       " 'platform': 1452,\n",
       " 'round': 1481,\n",
       " 'stub': 3629,\n",
       " 'overriding': 927,\n",
       " 'indices': 2119,\n",
       " 'llvm': 4063,\n",
       " '3x': 3313,\n",
       " 'hosted': 2651,\n",
       " 'jenkins': 1607,\n",
       " 'syntax': 331,\n",
       " 'clearing': 2352,\n",
       " '5': 332,\n",
       " 'development': 734,\n",
       " 'stanford': 3983,\n",
       " 'uploads': 2841,\n",
       " 'jinja': 4405,\n",
       " 'redirect_to': 3763,\n",
       " 'observe': 3612,\n",
       " 'interpret': 4276,\n",
       " 'repeats': 4370,\n",
       " 'period': 2452,\n",
       " 'yii2': 1222,\n",
       " 'servers': 1937,\n",
       " 'punctuation': 3710,\n",
       " 'javalangnumberformatexception': 4848,\n",
       " 'anywhere': 4307,\n",
       " 'newer': 4144,\n",
       " 'solr': 2774,\n",
       " 'age': 3720,\n",
       " 'fetch': 723,\n",
       " 'cancellation': 4721,\n",
       " 'initiate': 4975,\n",
       " 'permissions': 1515,\n",
       " 'developing': 2057,\n",
       " 'production': 1244,\n",
       " 'dash': 3068,\n",
       " 'c#net': 1927,\n",
       " 'transactional': 3620,\n",
       " 'side': 561,\n",
       " 'triggering': 2295,\n",
       " 'checks': 4617,\n",
       " 'squares': 4481,\n",
       " 'parentheses': 2427,\n",
       " 'crop': 2193,\n",
       " 'logs': 2836,\n",
       " 'year': 893,\n",
       " 'mouseover': 1718,\n",
       " 'rcp': 4124,\n",
       " 'dplyr': 2224,\n",
       " 'p': 1680,\n",
       " 'grey': 3415,\n",
       " 'matrix': 540,\n",
       " 'backbonejs': 1198,\n",
       " 'logged': 1301,\n",
       " 'stringreplace': 4308,\n",
       " 'spring': 79,\n",
       " 'gcd': 4550,\n",
       " 'killed': 4448,\n",
       " 'phonegap': 842,\n",
       " 'hidden': 783,\n",
       " 'objectivec': 313,\n",
       " 'hasmany': 4584,\n",
       " 'printf': 1399,\n",
       " 'examples': 1857,\n",
       " 'usable': 3979,\n",
       " 'instanceof': 4512,\n",
       " 'ggplot': 1123,\n",
       " 'reading': 201,\n",
       " 'understand': 1847,\n",
       " 'dbnull': 4853,\n",
       " 'inside': 87,\n",
       " 'coredata': 2814,\n",
       " 'time': 59,\n",
       " 'reliable': 3227,\n",
       " 'services': 726,\n",
       " 'concatenate': 1374,\n",
       " 'diff': 3016,\n",
       " 'foreground': 3240,\n",
       " '2011': 2469,\n",
       " 'range': 418,\n",
       " 'chartjs': 1636,\n",
       " 'handshake': 2580,\n",
       " 'natural': 3810,\n",
       " 'manytoone': 3263,\n",
       " 'slash': 1883,\n",
       " 'limits': 2862,\n",
       " 'stdclass': 4064,\n",
       " 'flags': 3703,\n",
       " 'finding': 475,\n",
       " 'panels': 2817,\n",
       " 'ipv6': 4200,\n",
       " 'keyerror': 4653,\n",
       " 'decrement': 3996,\n",
       " 'handle': 374,\n",
       " 'catalog': 4597,\n",
       " 'factors': 3978,\n",
       " 'ejb': 1875,\n",
       " 'calculations': 3183,\n",
       " 'documentready': 4483,\n",
       " 'communicating': 4119,\n",
       " 'transparency': 3674,\n",
       " 'english': 2599,\n",
       " 'price': 1814,\n",
       " 'reject': 4329,\n",
       " 'webclient': 2141,\n",
       " 'resolve': 785,\n",
       " 'thats': 3069,\n",
       " 'cs': 2749,\n",
       " 'user': 67,\n",
       " 'gdi+': 3388,\n",
       " '42': 3398,\n",
       " 'removing': 537,\n",
       " 'actionscript': 3451,\n",
       " 'hadoop': 1401,\n",
       " 'colon': 3011,\n",
       " 'ninject': 3646,\n",
       " 'snap': 4267,\n",
       " 'algorithm': 729,\n",
       " 'closed': 1009,\n",
       " 'decimal': 492,\n",
       " 'marks': 3121,\n",
       " 'points': 916,\n",
       " 'asio': 3189,\n",
       " 'benchmark': 4484,\n",
       " 'var': 1240,\n",
       " 'nltk': 2796,\n",
       " 'returns': 256,\n",
       " 'mvn': 4841,\n",
       " 'fault': 1316,\n",
       " 'nsinvalidargumentexception': 3575,\n",
       " 'machine': 849,\n",
       " 'rspec': 715,\n",
       " 'model': 143,\n",
       " 'cstring': 4071,\n",
       " 'launching': 2723,\n",
       " 'grunt': 2831,\n",
       " 'classname': 2825,\n",
       " 'raised': 3877,\n",
       " 'excluding': 2289,\n",
       " 'cache': 731,\n",
       " 'today': 3150,\n",
       " 'sizes': 2711,\n",
       " '323': 4700,\n",
       " 'pieces': 4485,\n",
       " 'identical': 2588,\n",
       " 's3': 985,\n",
       " 'illegalstateexception': 4176,\n",
       " 'reflection': 720,\n",
       " 'nunit': 1776,\n",
       " 'enabling': 2200,\n",
       " 'etc': 873,\n",
       " 'monday': 4510,\n",
       " 'fading': 4943,\n",
       " 'attached': 2671,\n",
       " 'signals': 3698,\n",
       " 'typefile': 3314,\n",
       " 'stable': 4249,\n",
       " 'character': 187,\n",
       " 'manipulating': 3315,\n",
       " 'jasmine': 1774,\n",
       " 'far': 4556,\n",
       " 'options': 738,\n",
       " 'unlock': 4380,\n",
       " 'cascade': 4230,\n",
       " 'oauth2': 4065,\n",
       " 'taken': 3756,\n",
       " 'parameters': 198,\n",
       " 'scheme': 3122,\n",
       " 'z': 3007,\n",
       " 'signing': 4641,\n",
       " '2005': 2236,\n",
       " 'threadsafe': 1844,\n",
       " 'audio': 1001,\n",
       " 'smart': 4202,\n",
       " '11': 1355,\n",
       " 'runtime': 370,\n",
       " 'timezone': 1117,\n",
       " 'access': 76,\n",
       " 'alphabetically': 2693,\n",
       " 'payload': 3017,\n",
       " 'bidirectional': 3589,\n",
       " 'filter': 312,\n",
       " 'messaging': 3560,\n",
       " 'void': 1002,\n",
       " 'pager': 4362,\n",
       " 'jsonparse': 2508,\n",
       " 'calls': 735,\n",
       " 'java8': 4270,\n",
       " 'html': 28,\n",
       " 'practical': 4726,\n",
       " 'visualstudio': 4856,\n",
       " 'third': 1923,\n",
       " 'wise': 4551,\n",
       " 'codec': 2544,\n",
       " 'affecting': 4301,\n",
       " 'closes': 2979,\n",
       " '61': 2874,\n",
       " 'mesh': 4977,\n",
       " 'comma': 770,\n",
       " 'celery': 2004,\n",
       " 'jpanels': 4430,\n",
       " 'datastore': 3218,\n",
       " 'instead': 308,\n",
       " 'nice': 3964,\n",
       " 'security': 590,\n",
       " 'flatten': 2832,\n",
       " 'authorization': 2202,\n",
       " 'tls': 3103,\n",
       " 'marshal': 3849,\n",
       " 'prototypes': 4090,\n",
       " 'caused': 2251,\n",
       " 'targets': 3847,\n",
       " 'internet': 747,\n",
       " 'pixels': 1944,\n",
       " 'ordered': 2487,\n",
       " 'formatter': 3104,\n",
       " 'cursor': 929,\n",
       " 'interrupt': 3393,\n",
       " 'sdk': 550,\n",
       " 'axis2': 3264,\n",
       " 'soup': 2687,\n",
       " 'alternate': 3434,\n",
       " '401': 2951,\n",
       " 'realloc': 4515,\n",
       " 'recursively': 1590,\n",
       " 'azure': 1322,\n",
       " 'autolayout': 2300,\n",
       " 'scene': 2713,\n",
       " 'need': 259,\n",
       " 'falls': 4486,\n",
       " 'related': 1279,\n",
       " 'babel': 4906,\n",
       " 'styling': 2169,\n",
       " 'lan': 4091,\n",
       " 'trouble': 923,\n",
       " 'parameterized': 3149,\n",
       " 'templated': 3899,\n",
       " 'differ': 4714,\n",
       " 'loads': 1834,\n",
       " 'serverside': 2105,\n",
       " 'drawrect': 3918,\n",
       " 'function': 14,\n",
       " 'nsstring': 900,\n",
       " 'replace': 227,\n",
       " 'concatenating': 2747,\n",
       " 'infinite': 1260,\n",
       " 'gstreamer': 3760,\n",
       " 'play': 592,\n",
       " 'apk': 3471,\n",
       " 'knockout': 1543,\n",
       " 'onsubmit': 4074,\n",
       " 'histograms': 4516,\n",
       " 'commands': 1207,\n",
       " 'npm': 2783,\n",
       " 'animations': 2585,\n",
       " 'submitted': 3127,\n",
       " 'weeks': 3206,\n",
       " 'pipes': 3253,\n",
       " 'initialise': 4602,\n",
       " 'jersey': 1132,\n",
       " 'closure': 1604,\n",
       " 'umbraco': 3219,\n",
       " 'getelementbyid': 2881,\n",
       " 'backgroundworker': 1985,\n",
       " 'maintaining': 2667,\n",
       " 'migrate': 3135,\n",
       " 'vector': 399,\n",
       " 'least': 1533,\n",
       " 'permgen': 4381,\n",
       " 'se': 3773,\n",
       " 'navigation': 697,\n",
       " 'vs': 108,\n",
       " 'locking': 2098,\n",
       " 'synchronization': 2436,\n",
       " 'output': 185,\n",
       " 'predefined': 3603,\n",
       " 'fixed': 950,\n",
       " 'scheduler': 2988,\n",
       " 'formdata': 2842,\n",
       " 'multiprocessing': 1468,\n",
       " 'mathematical': 3630,\n",
       " 'dict': 1415,\n",
       " 'select': 84,\n",
       " 'triple': 4628,\n",
       " 'param': 2399,\n",
       " 'mdi': 4949,\n",
       " 'richtextbox': 1760,\n",
       " 'javac': 3580,\n",
       " 'mock': 1023,\n",
       " 'pivot': 2441,\n",
       " 'upgrading': 2882,\n",
       " 'form_for': 4271,\n",
       " 'leading': 2082,\n",
       " 'encountered': 2980,\n",
       " 'landscape': 2407,\n",
       " 'music': 3220,\n",
       " 'minimum': 2099,\n",
       " 'generation': 1439,\n",
       " 'left': 714,\n",
       " 'equals': 1238,\n",
       " 'unterminated': 4499,\n",
       " 'yes': 1951,\n",
       " 'javalangnosuchmethoderror': 3659,\n",
       " 'calculator': 1795,\n",
       " 'may': 1580,\n",
       " 'protocols': 4942,\n",
       " 'multiplication': 2336,\n",
       " 'guessing': 3850,\n",
       " 'tornado': 2120,\n",
       " 'factory': 1330,\n",
       " 'msvc': 3452,\n",
       " 'loading': 229,\n",
       " 'transport': 3699,\n",
       " 'assume': 4820,\n",
       " 'webservice': 667,\n",
       " 'one': 50,\n",
       " 'distance': 1363,\n",
       " 'discount': 4978,\n",
       " 'userid': 4446,\n",
       " 'barplot': 2907,\n",
       " 'language': 599,\n",
       " 'headers': 754,\n",
       " 'eg': 1719,\n",
       " 'near': 2833,\n",
       " 'rmi': 2058,\n",
       " 'vista': 4315,\n",
       " 'warning': 431,\n",
       " 'adonet': 1975,\n",
       " 'forms': 367,\n",
       " 'entries': 1327,\n",
       " 'meteorjs': 4053,\n",
       " 'charts': 1483,\n",
       " 'clob': 4140,\n",
       " 'keydown': 2784,\n",
       " 'situation': 4468,\n",
       " 'greek': 3900,\n",
       " 'conflicting': 3254,\n",
       " 'plugins': 2218,\n",
       " 'answer': 3116,\n",
       " 'uitableview': 539,\n",
       " 'pyc': 4236,\n",
       " 'systemtimerstimer': 4406,\n",
       " 'drawer': 3800,\n",
       " 'recover': 4310,\n",
       " '100': 1336,\n",
       " 'according': 1551,\n",
       " 'configurations': 4844,\n",
       " 'excel': 182,\n",
       " 'bin': 1743,\n",
       " 'writing': 405,\n",
       " 'traverse': 3499,\n",
       " 'pushviewcontroller': 4979,\n",
       " 'referenced': 1447,\n",
       " 'give': 1126,\n",
       " 'documentgetelementbyid': 2804,\n",
       " 'backup': 2631,\n",
       " 'mode': 621,\n",
       " 'result': 316,\n",
       " 'l': 4852,\n",
       " 'bar': 276,\n",
       " 'autocomplete': 792,\n",
       " 'rand': 3362,\n",
       " 'interceptor': 4311,\n",
       " 'sometimes': 2008,\n",
       " 'single': 220,\n",
       " 'save': 165,\n",
       " 'setting': 218,\n",
       " 'dispatch': 3745,\n",
       " 'print': 238,\n",
       " 'bars': 2149,\n",
       " 'percentages': 4469,\n",
       " 'post': 109,\n",
       " 'callbacks': 1888,\n",
       " 'classes': 273,\n",
       " 'last': 317,\n",
       " 'threadsleep': 3746,\n",
       " 'includes': 1787,\n",
       " 'protocol': 910,\n",
       " 'description': 2062,\n",
       " 'auto': 457,\n",
       " 'queues': 2990,\n",
       " 'due': 1210,\n",
       " 'browsing': 4695,\n",
       " 'dir': 4187,\n",
       " 'benefit': 3250,\n",
       " 'develop': 3020,\n",
       " 'setattribute': 4277,\n",
       " 'xhr': 3772,\n",
       " 'py': 3417,\n",
       " 'radiobuttonlist': 4857,\n",
       " 'remember': 3328,\n",
       " 'sense': 3912,\n",
       " 'sdl': 3604,\n",
       " 'rotation': 1705,\n",
       " 'allocation': 1871,\n",
       " 'preparedstatement': 2563,\n",
       " 'sql': 81,\n",
       " 'sublime': 2640,\n",
       " 'uipickerview': 2356,\n",
       " 'pyspark': 2843,\n",
       " 'forloop': 3601,\n",
       " 'traffic': 3418,\n",
       " 'mocha': 3096,\n",
       " 'firefox': 484,\n",
       " 'qml': 2864,\n",
       " 'sorting': 474,\n",
       " 'priority': 2379,\n",
       " 'whitespaces': 4312,\n",
       " 'specification': 3453,\n",
       " 'center': 1006,\n",
       " 'absolute': 1283,\n",
       " 'fadeout': 4727,\n",
       " 'scenarios': 4692,\n",
       " 'needs': 1945,\n",
       " '24': 1703,\n",
       " 'modifiers': 4895,\n",
       " 'library': 146,\n",
       " 'wildfly': 3421,\n",
       " 'hovering': 3813,\n",
       " 'unresolved': 1697,\n",
       " 'images': 212,\n",
       " 'white': 1131,\n",
       " 'anchors': 3323,\n",
       " 'segments': 4232,\n",
       " 'replacing': 933,\n",
       " 'temperature': 4166,\n",
       " 'subtraction': 4258,\n",
       " 'debian': 3621,\n",
       " 'javascript': 4,\n",
       " 'newbie': 3375,\n",
       " 'unchecked': 2471,\n",
       " 'indexof': 2838,\n",
       " 'current_user': 4760,\n",
       " 'amounts': 3774,\n",
       " 'ended': 4438,\n",
       " 'vsto': 3697,\n",
       " 'inactive': 4336,\n",
       " 'criteria': 1839,\n",
       " 'nav': 4297,\n",
       " 'subprocesspopen': 3527,\n",
       " 'gdb': 1858,\n",
       " 'forwarding': 4250,\n",
       " 'property': 100,\n",
       " 'picture': 1444,\n",
       " 'chars': 1631,\n",
       " 'monthly': 4435,\n",
       " 'though': 1419,\n",
       " 'serialport': 3868,\n",
       " 'ie': 384,\n",
       " 'declaring': 1748,\n",
       " 'codeigniter': 154,\n",
       " 'ggplot2': 793,\n",
       " 'bigger': 4822,\n",
       " 'wheres': 4858,\n",
       " 'compressing': 4842,\n",
       " 'expand': 2047,\n",
       " 'fancybox': 1664,\n",
       " 'saved': 1602,\n",
       " 'ipad': 1110,\n",
       " 'dom': 503,\n",
       " 'parsed': 3024,\n",
       " 'limiting': 2908,\n",
       " 'integral': 3523,\n",
       " 'sprite': 2231,\n",
       " 'unrecognized': 1475,\n",
       " 'afnetworking': 2581,\n",
       " 'labels': 926,\n",
       " 'fileoutputstream': 4779,\n",
       " 'everything': 1588,\n",
       " 'rootscope': 4891,\n",
       " 'net': 113,\n",
       " 'mandatory': 4272,\n",
       " 'javalangruntimeexception': 4618,\n",
       " 'helper': 1359,\n",
       " 'processstart': 3473,\n",
       " 'redirect': 267,\n",
       " 'threads': 523,\n",
       " 'threadpool': 2913,\n",
       " 'hive': 3348,\n",
       " 'false': 622,\n",
       " 'dd': 1702,\n",
       " 'action': 306,\n",
       " 'operator': 449,\n",
       " 'high': 1598,\n",
       " '1st': 3184,\n",
       " 'incoming': 3025,\n",
       " 'crossorigin': 3965,\n",
       " 'login': 230,\n",
       " 'openssl': 1751,\n",
       " 'nesting': 3522,\n",
       " 'arraylist': 372,\n",
       " 'international': 4204,\n",
       " 'effectively': 3797,\n",
       " 'laravel': 179,\n",
       " 'timed': 2240,\n",
       " 'signature': 1706,\n",
       " 'sides': 4518,\n",
       " 'indexes': 2109,\n",
       " 'confirm': 1603,\n",
       " 'foreignkey': 3087,\n",
       " 'viewdidload': 4813,\n",
       " 'notice': 2092,\n",
       " 'urls': 939,\n",
       " 'buffers': 3984,\n",
       " 'top': 568,\n",
       " 'ambiguous': 2241,\n",
       " 'resizing': 1347,\n",
       " 'exe': 1086,\n",
       " 'allowing': 2551,\n",
       " 'encoded': 1328,\n",
       " 'suspend': 4007,\n",
       " 'expired': 3342,\n",
       " 'restricting': 4693,\n",
       " 'bug': 1381,\n",
       " 'private': 708,\n",
       " 'integrate': 1798,\n",
       " 'ending': 3018,\n",
       " 'svn': 3051,\n",
       " 'setinterval': 1815,\n",
       " 'sqlparameter': 4611,\n",
       " 'repeater': 1383,\n",
       " 'advantages': 2266,\n",
       " 'text_field': 4980,\n",
       " 'annotated': 3419,\n",
       " 'el': 2652,\n",
       " 'onchange': 1299,\n",
       " 'functionality': 1519,\n",
       " 'backend': 1793,\n",
       " 'stdlist': 4506,\n",
       " 'djangos': 2668,\n",
       " 'span': 1423,\n",
       " '#pragma': 4823,\n",
       " 'disabling': 1548,\n",
       " 'returned': 806,\n",
       " 'accordion': 2176,\n",
       " 'volley': 3660,\n",
       " 'incorrectly': 3298,\n",
       " 'swapping': 4413,\n",
       " 'strings': 224,\n",
       " 'len': 4346,\n",
       " 'files': 56,\n",
       " 'groupbox': 4652,\n",
       " 'sort': 311,\n",
       " 'angle': 2871,\n",
       " 'local': 257,\n",
       " 'schema': 1311,\n",
       " 'calculating': 1115,\n",
       " 'scripting': 3056,\n",
       " '__attribute__': 4125,\n",
       " 'training': 3138,\n",
       " 'cgi': 2472,\n",
       " 'supplied': 2775,\n",
       " 'value': 13,\n",
       " 'server': 39,\n",
       " 'translation': 3139,\n",
       " 'ipython': 2331,\n",
       " 'synchronized': 2545,\n",
       " 'aws': 1544,\n",
       " 'd3js': 1331,\n",
       " 'fit': 1234,\n",
       " 'jquerys': 2703,\n",
       " 'nonetype': 2171,\n",
       " 'instances': 1112,\n",
       " 'hashmap': 794,\n",
       " 'mavericks': 4095,\n",
       " 'nginx': 1199,\n",
       " 'gb': 3653,\n",
       " 'minutes': 1223,\n",
       " 'dbmigrate': 3851,\n",
       " 'always': 473,\n",
       " 'later': 2253,\n",
       " 'wget': 4945,\n",
       " 'visible': 803,\n",
       " 'json_decode': 3282,\n",
       " 'entities': 846,\n",
       " 'geocoding': 3468,\n",
       " 'separately': 3590,\n",
       " 'create': 27,\n",
       " 'jwt': 3766,\n",
       " 'previously': 3570,\n",
       " 'gateway': 2785,\n",
       " 'libgdx': 1400,\n",
       " 'temporarily': 2763,\n",
       " 'recv': 4273,\n",
       " 'machines': 4130,\n",
       " 'execution': 854,\n",
       " 'backbone': 1251,\n",
       " 'detection': 1449,\n",
       " 'limit': 565,\n",
       " 'outside': 607,\n",
       " 'reset': 911,\n",
       " 'manipulate': 2394,\n",
       " 'formatted': 1823,\n",
       " 'proc': 4642,\n",
       " 'choices': 2800,\n",
       " 'division': 3070,\n",
       " 'origin': 2353,\n",
       " 'act': 4018,\n",
       " 'aggregate': 1976,\n",
       " 'guice': 2764,\n",
       " 'gone': 3207,\n",
       " 'catching': 1989,\n",
       " 'triangles': 4274,\n",
       " 'aspectj': 4407,\n",
       " 'javalangillegalstateexception': 3080,\n",
       " 'runner': 4686,\n",
       " 'scrollview': 2641,\n",
       " 'package': 443,\n",
       " 'az': 3749,\n",
       " '22': 2674,\n",
       " 'started': 1453,\n",
       " 'sheet': 1342,\n",
       " 'sub': 1471,\n",
       " 'subclasses': 3897,\n",
       " 'press': 1437,\n",
       " 'day': 832,\n",
       " 'downloaded': 2443,\n",
       " 'recording': 3591,\n",
       " 'bounding': 4946,\n",
       " 'stylesheets': 4629,\n",
       " 'signed': 2341,\n",
       " 'pi': 3727,\n",
       " 'validating': 1340,\n",
       " 'braces': 3047,\n",
       " 'smoothly': 4019,\n",
       " 'pressed': 1477,\n",
       " 'please': 1530,\n",
       " 'stale': 4598,\n",
       " 'foundation': 2757,\n",
       " 'routing': 1020,\n",
       " 'capistrano': 1896,\n",
       " 'read': 92,\n",
       " 'uibutton': 1164,\n",
       " 'registering': 2963,\n",
       " 'want': 673,\n",
       " 'hardware': 3820,\n",
       " 'fade': 1722,\n",
       " 'scoping': 4379,\n",
       " 'controllers': 1071,\n",
       " 'image': 23,\n",
       " 'giving': 944,\n",
       " 'flush': 3374,\n",
       " 'identifier': 1042,\n",
       " 'leak': 1056,\n",
       " 'objectid': 4467,\n",
       " 'note': 4619,\n",
       " 'behave': 4281,\n",
       " 'retrofit': 2791,\n",
       " 'multithread': 2725,\n",
       " 'popular': 4730,\n",
       " 'premature': 4731,\n",
       " 'sass': 3151,\n",
       " 'stdstring': 1469,\n",
       " 'xsd': 1768,\n",
       " 'installer': 2488,\n",
       " 'restart': 1632,\n",
       " 'layouts': 3821,\n",
       " 'rxjava': 4447,\n",
       " 'matches': 1183,\n",
       " 'euler': 4758,\n",
       " 'urlopen': 4824,\n",
       " 'j': 4145,\n",
       " 'date': 64,\n",
       " 'stop': 445,\n",
       " 'difference': 145,\n",
       " 'visualization': 3389,\n",
       " 'raw': 1162,\n",
       " 'drop': 375,\n",
       " 'sessions': 1233,\n",
       " 'combobox': 494,\n",
       " 'complexity': 2835,\n",
       " 'continue': 2087,\n",
       " 'fileupload': 2582,\n",
       " 'confused': 2914,\n",
       " 'expires': 4973,\n",
       " 'timeline': 3538,\n",
       " 'cassandra': 3894,\n",
       " 'rss': 2164,\n",
       " 'take': 819,\n",
       " 'completely': 1678,\n",
       " 'expressjs': 2203,\n",
       " 'masterpage': 3233,\n",
       " 'bulk': 2347,\n",
       " 'todays': 3505,\n",
       " 'viewstate': 4900,\n",
       " 'recipients': 4583,\n",
       " 'recyclerview': 3921,\n",
       " 'gems': 1971,\n",
       " 'uitextview': 1687,\n",
       " 'curly': 3535,\n",
       " 'uml': 4408,\n",
       " 'ce': 2418,\n",
       " 'overload': 2101,\n",
       " 'future': 3117,\n",
       " 'resource': 425,\n",
       " 'vagrant': 3717,\n",
       " 'associative': 1866,\n",
       " 'igniter': 2765,\n",
       " 'asynchronous': 931,\n",
       " 'live': 1366,\n",
       " 'edge': 2509,\n",
       " 'effective': 3404,\n",
       " 'odd': 1549,\n",
       " 'alone': 3884,\n",
       " 'raphaeljs': 3721,\n",
       " 'inherits': 4314,\n",
       " 'marionette': 4422,\n",
       " 'registered': 2219,\n",
       " 'avoiding': 2132,\n",
       " 'good': 532,\n",
       " 'toolkit': 3152,\n",
       " 'show': 131,\n",
       " 'rewrite': 1690,\n",
       " 'objc': 2081,\n",
       " 'debug': 552,\n",
       " 'parallelforeach': 4541,\n",
       " 'lua': 2282,\n",
       " 'mysqli_query': 4045,\n",
       " 'stdmap': 2724,\n",
       " 'selecteditem': 4458,\n",
       " 'th': 4807,\n",
       " 'flat': 3553,\n",
       " 'initialized': 1532,\n",
       " 'injected': 4719,\n",
       " 'listing': 2733,\n",
       " 'validations': 4046,\n",
       " 'ie8': 1028,\n",
       " 'input': 68,\n",
       " 'nodes': 878,\n",
       " 'mappings': 3722,\n",
       " 'routeprovider': 4098,\n",
       " 'characters': 188,\n",
       " 'mysql_fetch_array': 3212,\n",
       " 'flickering': 4067,\n",
       " 'findviewbyid': 4640,\n",
       " 'activeadmin': 2342,\n",
       " 'gsub': 4694,\n",
       " 'pictures': 3222,\n",
       " 'pack': 1979,\n",
       " 'product': 837,\n",
       " 'creator': 2314,\n",
       " 'legacy': 3802,\n",
       " 'apostrophe': 3256,\n",
       " 'nhibernate': 965,\n",
       " 'yaxis': 2797,\n",
       " '106': 4654,\n",
       " 'sequentially': 3803,\n",
       " 'efficiency': 3177,\n",
       " 'javanetsocketexception': 3878,\n",
       " 'overwriting': 3283,\n",
       " 'meant': 4253,\n",
       " 'category': 1403,\n",
       " 'mask': 2133,\n",
       " 'singleton': 1013,\n",
       " 'datetimes': 4626,\n",
       " 'multiline': 1816,\n",
       " '193': 3057,\n",
       " 'jsonobject': 2605,\n",
       " 'serializer': 2991,\n",
       " 'locally': 2208,\n",
       " 'allocating': 4233,\n",
       " 'factorygirl': 3610,\n",
       " 'compiling': 882,\n",
       " 'troubles': 4337,\n",
       " 'annotations': 1230,\n",
       " 'client': 192,\n",
       " 'poor': 4569,\n",
       " 'routine': 4825,\n",
       " 'anything': 1417,\n",
       " 'modelform': 2369,\n",
       " '60': 2967,\n",
       " 'jcombobox': 4927,\n",
       " 'often': 4733,\n",
       " 'viewer': 2367,\n",
       " '403': 2245,\n",
       " 'currently': 1901,\n",
       " 'requirejs': 2040,\n",
       " 'form': 26,\n",
       " '09': 3982,\n",
       " 'vs2008': 3472,\n",
       " 'jpa': 567,\n",
       " 'protect': 3134,\n",
       " 'rid': 2012,\n",
       " 'moves': 4630,\n",
       " 'pandas': 278,\n",
       " 'references': 1175,\n",
       " 'javalangclassnotfoundexception': 2322,\n",
       " 'embedded': 903,\n",
       " 'jqueryui': 3153,\n",
       " 'dimension': 2220,\n",
       " 'behaving': 4316,\n",
       " 'warn': 4487,\n",
       " 'point': 507,\n",
       " 'whitespace': 1822,\n",
       " 'bucket': 3236,\n",
       " 'queue': 850,\n",
       " 'jetty': 2798,\n",
       " 'automate': 3209,\n",
       " 'iterate': 681,\n",
       " 'populated': 2606,\n",
       " 'textfield': 1264,\n",
       " 'appengine': 2454,\n",
       " '2dimensional': 3822,\n",
       " 'vs2012': 3537,\n",
       " 'generator': 1077,\n",
       " 'contentlength': 4234,\n",
       " 'chaining': 3436,\n",
       " 'popup': 434,\n",
       " 'encrypted': 2370,\n",
       " 'yield': 3503,\n",
       " 'xampp': 1343,\n",
       " 'woocommerce': 1390,\n",
       " 'jvm': 1204,\n",
       " 'previous': 746,\n",
       " 'virtual': 826,\n",
       " '6': 660,\n",
       " 'shiny': 1505,\n",
       " 'rubygems': 3911,\n",
       " 'support': 516,\n",
       " 'backing': 3008,\n",
       " 'instance': 239,\n",
       " 'parenthesis': 4150,\n",
       " 'deserialize': 1044,\n",
       " 'grep': 4351,\n",
       " 'symfony2': 701,\n",
       " 'protection': 4785,\n",
       " 'uploaded': 1035,\n",
       " 'backward': 4410,\n",
       " 'think': 3631,\n",
       " '#': 1980,\n",
       " 'stuck': 2032,\n",
       " 'pending': 4020,\n",
       " 'copying': 1181,\n",
       " 'reactjs': 1872,\n",
       " 'gps': 2607,\n",
       " 'api': 75,\n",
       " 'vs2010': 2539,\n",
       " 'populate': 643,\n",
       " 'sum': 563,\n",
       " 'rows': 225,\n",
       " 'fashion': 4589,\n",
       " 'binding': 328,\n",
       " 'fragments': 2758,\n",
       " 'sessionfactory': 3154,\n",
       " 'amp': 3945,\n",
       " 'mysql_query': 3425,\n",
       " 'articles': 4798,\n",
       " ...}"
      ]
     },
     "execution_count": 147,
     "metadata": {},
     "output_type": "execute_result"
    }
   ],
   "source": [
    "WORDS_TO_INDEX"
   ]
  },
  {
   "cell_type": "markdown",
   "metadata": {},
   "source": [
    "As you might notice, we transform the data to sparse representation, to store the useful information efficiently. There are many [types](https://docs.scipy.org/doc/scipy/reference/sparse.html) of such representations, however sklearn algorithms can work only with [csr](https://docs.scipy.org/doc/scipy/reference/generated/scipy.sparse.csr_matrix.html#scipy.sparse.csr_matrix) matrix, so we will use this one."
   ]
  },
  {
   "cell_type": "markdown",
   "metadata": {},
   "source": [
    "**Task 3 (BagOfWords).** For the 11th row in *X_train_mybag* find how many non-zero elements it has. In this task the answer (variable *non_zero_elements_count*) should be a number, e.g. 20."
   ]
  },
  {
   "cell_type": "code",
   "execution_count": 148,
   "metadata": {},
   "outputs": [
    {
     "data": {
      "text/plain": [
       "7"
      ]
     },
     "execution_count": 148,
     "metadata": {},
     "output_type": "execute_result"
    }
   ],
   "source": [
    "sum(X_train_mybag[10].toarray()[0] != 0)"
   ]
  },
  {
   "cell_type": "code",
   "execution_count": 149,
   "metadata": {},
   "outputs": [
    {
     "name": "stdout",
     "output_type": "stream",
     "text": [
      "Current answer for task BagOfWords is:\n",
      " 7...\n"
     ]
    }
   ],
   "source": [
    "row = X_train_mybag[10].toarray()[0]\n",
    "non_zero_elements_count = sum(row!=0) ####### YOUR CODE HERE #######\n",
    "\n",
    "grader.submit_tag('BagOfWords', str(non_zero_elements_count))"
   ]
  },
  {
   "cell_type": "markdown",
   "metadata": {},
   "source": [
    "#### TF-IDF\n",
    "\n",
    "The second approach extends the bag-of-words framework by taking into account total frequencies of words in the corpora. It helps to penalize too frequent words and provide better features space. \n",
    "\n",
    "Implement function *tfidf_features* using class [TfidfVectorizer](http://scikit-learn.org/stable/modules/generated/sklearn.feature_extraction.text.TfidfVectorizer.html) from *scikit-learn*. Use *train* corpus to train a vectorizer. Don't forget to take a look into the arguments that you can pass to it. We suggest that you filter out too rare words (occur less than in 5 titles) and too frequent words (occur more than in 90% of the titles). Also, use bigrams along with unigrams in your vocabulary. "
   ]
  },
  {
   "cell_type": "code",
   "execution_count": 150,
   "metadata": {},
   "outputs": [],
   "source": [
    "from sklearn.feature_extraction.text import TfidfVectorizer"
   ]
  },
  {
   "cell_type": "code",
   "execution_count": 153,
   "metadata": {},
   "outputs": [
    {
     "data": {
      "text/plain": [
       "['draw stacked dotplot r',\n",
       " 'mysql select records datetime field less specified value',\n",
       " 'terminate windows phone 81 app']"
      ]
     },
     "execution_count": 153,
     "metadata": {},
     "output_type": "execute_result"
    }
   ],
   "source": [
    "X_train[:3]"
   ]
  },
  {
   "cell_type": "code",
   "execution_count": 154,
   "metadata": {},
   "outputs": [],
   "source": [
    "def tfidf_features(X_train, X_val, X_test):\n",
    "    \"\"\"\n",
    "        X_train, X_val, X_test — samples        \n",
    "        return TF-IDF vectorized representation of each sample and vocabulary\n",
    "    \"\"\"\n",
    "    # Create TF-IDF vectorizer with a proper parameters choice\n",
    "    # Fit the vectorizer on the train set\n",
    "    # Transform the train, test, and val sets and return the result\n",
    "    \n",
    "    \n",
    "    tfidf_vectorizer = TfidfVectorizer(token_pattern=\"(\\S+)\",min_df=5, max_df=0.9) ####### YOUR CODE HERE #######\n",
    "    X_train = tfidf_vectorizer.fit_transform(X_train)\n",
    "    X_val, X_test = tfidf_vectorizer.transform(X_val), tfidf_vectorizer.transform(X_test)\n",
    "    ######################################\n",
    "    ######### YOUR CODE HERE #############\n",
    "    ######################################\n",
    "    \n",
    "    return X_train, X_val, X_test, tfidf_vectorizer.vocabulary_"
   ]
  },
  {
   "cell_type": "markdown",
   "metadata": {},
   "source": [
    "Once you have done text preprocessing, always have a look at the results. Be very careful at this step, because the performance of future models will drastically depend on it. \n",
    "\n",
    "In this case, check whether you have c++ or c# in your vocabulary, as they are obviously important tokens in our tags prediction task:"
   ]
  },
  {
   "cell_type": "code",
   "execution_count": 155,
   "metadata": {},
   "outputs": [],
   "source": [
    "X_train_tfidf, X_val_tfidf, X_test_tfidf, tfidf_vocab = tfidf_features(X_train, X_val, X_test)\n",
    "tfidf_reversed_vocab = {i:word for word,i in tfidf_vocab.items()}"
   ]
  },
  {
   "cell_type": "code",
   "execution_count": 156,
   "metadata": {},
   "outputs": [
    {
     "data": {
      "text/plain": [
       "True"
      ]
     },
     "execution_count": 156,
     "metadata": {},
     "output_type": "execute_result"
    }
   ],
   "source": [
    "######### YOUR CODE HERE #############\n",
    "\"c#\" in tfidf_reversed_vocab.values()"
   ]
  },
  {
   "cell_type": "code",
   "execution_count": 157,
   "metadata": {},
   "outputs": [
    {
     "data": {
      "text/plain": [
       "2.3923784834187503"
      ]
     },
     "execution_count": 157,
     "metadata": {},
     "output_type": "execute_result"
    }
   ],
   "source": [
    "sum(X_train_tfidf[11].toarray()[0])"
   ]
  },
  {
   "cell_type": "code",
   "execution_count": 158,
   "metadata": {},
   "outputs": [
    {
     "data": {
      "text/plain": [
       "['draw stacked dotplot r',\n",
       " 'mysql select records datetime field less specified value',\n",
       " 'terminate windows phone 81 app']"
      ]
     },
     "execution_count": 158,
     "metadata": {},
     "output_type": "execute_result"
    }
   ],
   "source": [
    "X_train[:3]"
   ]
  },
  {
   "cell_type": "markdown",
   "metadata": {},
   "source": [
    "If you can't find it, we need to understand how did it happen that we lost them? It happened during the built-in tokenization of TfidfVectorizer. Luckily, we can influence on this process. Get back to the function above and use '(\\S+)' regexp as a *token_pattern* in the constructor of the vectorizer.  "
   ]
  },
  {
   "cell_type": "markdown",
   "metadata": {},
   "source": [
    "Now, use this transormation for the data and check again."
   ]
  },
  {
   "cell_type": "code",
   "execution_count": 159,
   "metadata": {},
   "outputs": [],
   "source": [
    "######### YOUR CODE HERE #############\n"
   ]
  },
  {
   "cell_type": "markdown",
   "metadata": {},
   "source": [
    "### MultiLabel classifier\n",
    "\n",
    "As we have noticed before, in this task each example can have multiple tags. To deal with such kind of prediction, we need to transform labels in a binary form and the prediction will be a mask of 0s and 1s. For this purpose it is convenient to use [MultiLabelBinarizer](http://scikit-learn.org/stable/modules/generated/sklearn.preprocessing.MultiLabelBinarizer.html) from *sklearn*."
   ]
  },
  {
   "cell_type": "code",
   "execution_count": 160,
   "metadata": {},
   "outputs": [],
   "source": [
    "from sklearn.preprocessing import MultiLabelBinarizer"
   ]
  },
  {
   "cell_type": "code",
   "execution_count": 161,
   "metadata": {},
   "outputs": [],
   "source": [
    "mlb = MultiLabelBinarizer(classes=sorted(tags_counts.keys()))\n",
    "y_train = mlb.fit_transform(y_train)\n",
    "y_val = mlb.fit_transform(y_val)"
   ]
  },
  {
   "cell_type": "code",
   "execution_count": 162,
   "metadata": {},
   "outputs": [
    {
     "data": {
      "text/plain": [
       "(100000, 100)"
      ]
     },
     "execution_count": 162,
     "metadata": {},
     "output_type": "execute_result"
    }
   ],
   "source": [
    "y_train.shape"
   ]
  },
  {
   "cell_type": "code",
   "execution_count": 163,
   "metadata": {},
   "outputs": [
    {
     "data": {
      "text/plain": [
       "100"
      ]
     },
     "execution_count": 163,
     "metadata": {},
     "output_type": "execute_result"
    }
   ],
   "source": [
    "len(tags_counts.keys())"
   ]
  },
  {
   "cell_type": "code",
   "execution_count": 164,
   "metadata": {},
   "outputs": [
    {
     "data": {
      "text/plain": [
       "array(['.net', 'ajax', 'algorithm', 'android', 'angularjs', 'apache',\n",
       "       'arrays', 'asp.net', 'asp.net-mvc', 'c', 'c#', 'c++', 'class',\n",
       "       'cocoa-touch', 'codeigniter', 'css', 'csv', 'database', 'date',\n",
       "       'datetime', 'django', 'dom', 'eclipse', 'entity-framework', 'excel',\n",
       "       'facebook', 'file', 'forms', 'function', 'generics', 'google-maps',\n",
       "       'hibernate', 'html', 'html5', 'image', 'ios', 'iphone', 'java',\n",
       "       'javascript', 'jquery', 'json', 'jsp', 'laravel', 'linq', 'linux',\n",
       "       'list', 'loops', 'maven', 'mongodb', 'multithreading', 'mysql',\n",
       "       'node.js', 'numpy', 'objective-c', 'oop', 'opencv', 'osx', 'pandas',\n",
       "       'parsing', 'performance', 'php', 'pointers', 'python', 'python-2.7',\n",
       "       'python-3.x', 'qt', 'r', 'regex', 'rest', 'ruby', 'ruby-on-rails',\n",
       "       'ruby-on-rails-3', 'selenium', 'servlets', 'session', 'sockets',\n",
       "       'sorting', 'spring', 'spring-mvc', 'sql', 'sql-server', 'string',\n",
       "       'swift', 'swing', 'twitter-bootstrap', 'uitableview',\n",
       "       'unit-testing', 'validation', 'vb.net', 'visual-studio',\n",
       "       'visual-studio-2010', 'wcf', 'web-services', 'windows', 'winforms',\n",
       "       'wordpress', 'wpf', 'xaml', 'xcode', 'xml'], dtype=object)"
      ]
     },
     "execution_count": 164,
     "metadata": {},
     "output_type": "execute_result"
    }
   ],
   "source": [
    "mlb.classes_"
   ]
  },
  {
   "cell_type": "markdown",
   "metadata": {},
   "source": [
    "Implement the function *train_classifier* for training a classifier. In this task we suggest to use One-vs-Rest approach, which is implemented in [OneVsRestClassifier](http://scikit-learn.org/stable/modules/generated/sklearn.multiclass.OneVsRestClassifier.html) class. In this approach *k* classifiers (= number of tags) are trained. As a basic classifier, use [LogisticRegression](http://scikit-learn.org/stable/modules/generated/sklearn.linear_model.LogisticRegression.html). It is one of the simplest methods, but often it performs good enough in text classification tasks. It might take some time, because a number of classifiers to train is large."
   ]
  },
  {
   "cell_type": "code",
   "execution_count": 165,
   "metadata": {},
   "outputs": [],
   "source": [
    "from sklearn.multiclass import OneVsRestClassifier\n",
    "from sklearn.linear_model import LogisticRegression, RidgeClassifier"
   ]
  },
  {
   "cell_type": "code",
   "execution_count": 213,
   "metadata": {},
   "outputs": [],
   "source": [
    "def train_classifier(X_train, y_train, C_value=10):\n",
    "    \"\"\"\n",
    "      X_train, y_train — training data\n",
    "      \n",
    "      return: trained classifier\n",
    "    \"\"\"\n",
    "    \n",
    "    # Create and fit LogisticRegression wraped into OneVsRestClassifier.\n",
    "    classifier = OneVsRestClassifier(estimator=LogisticRegression(penalty='l2', dual=False, tol=0.0001, C=C_value), n_jobs=1)\n",
    "    classifier.fit(X_train, y_train)\n",
    "    \n",
    "    ######################################\n",
    "    ######### YOUR CODE HERE #############\n",
    "    ######################################    \n",
    "    \n",
    "    return classifier"
   ]
  },
  {
   "cell_type": "markdown",
   "metadata": {},
   "source": [
    "Train the classifiers for different data transformations: *bag-of-words* and *tf-idf*."
   ]
  },
  {
   "cell_type": "code",
   "execution_count": 167,
   "metadata": {},
   "outputs": [],
   "source": [
    "classifier_mybag = train_classifier(X_train_mybag, y_train)\n",
    "classifier_tfidf = train_classifier(X_train_tfidf, y_train)"
   ]
  },
  {
   "cell_type": "markdown",
   "metadata": {},
   "source": [
    "Now you can create predictions for the data. You will need two types of predictions: labels and scores."
   ]
  },
  {
   "cell_type": "code",
   "execution_count": 168,
   "metadata": {},
   "outputs": [],
   "source": [
    "y_val_predicted_labels_mybag = classifier_mybag.predict(X_val_mybag)\n",
    "y_val_predicted_scores_mybag = classifier_mybag.decision_function(X_val_mybag)\n",
    "\n",
    "y_val_predicted_labels_tfidf = classifier_tfidf.predict(X_val_tfidf)\n",
    "y_val_predicted_scores_tfidf = classifier_tfidf.decision_function(X_val_tfidf)"
   ]
  },
  {
   "cell_type": "markdown",
   "metadata": {},
   "source": [
    "Now take a look at how classifier, which uses TF-IDF, works for a few examples:"
   ]
  },
  {
   "cell_type": "code",
   "execution_count": 169,
   "metadata": {},
   "outputs": [
    {
     "name": "stdout",
     "output_type": "stream",
     "text": [
      "Title:\todbc_exec always fail\n",
      "True labels:\tphp,sql\n",
      "Predicted labels:\t\n",
      "\n",
      "\n",
      "Title:\taccess base classes variable within child class\n",
      "True labels:\tjavascript\n",
      "Predicted labels:\t\n",
      "\n",
      "\n",
      "Title:\tcontenttype application json required rails\n",
      "True labels:\truby,ruby-on-rails\n",
      "Predicted labels:\tjson,ruby-on-rails\n",
      "\n",
      "\n"
     ]
    }
   ],
   "source": [
    "y_val_pred_inversed = mlb.inverse_transform(y_val_predicted_labels_tfidf)\n",
    "y_val_inversed = mlb.inverse_transform(y_val)\n",
    "for i in range(3):\n",
    "    print('Title:\\t{}\\nTrue labels:\\t{}\\nPredicted labels:\\t{}\\n\\n'.format(\n",
    "        X_val[i],\n",
    "        ','.join(y_val_inversed[i]),\n",
    "        ','.join(y_val_pred_inversed[i])\n",
    "    ))"
   ]
  },
  {
   "cell_type": "markdown",
   "metadata": {},
   "source": [
    "Now, we would need to compare the results of different predictions, e.g. to see whether TF-IDF transformation helps or to try different regularization techniques in logistic regression. For all these experiments, we need to setup evaluation procedure. "
   ]
  },
  {
   "cell_type": "markdown",
   "metadata": {},
   "source": [
    "### Evaluation\n",
    "\n",
    "To evaluate the results we will use several classification metrics:\n",
    " - [Accuracy](http://scikit-learn.org/stable/modules/generated/sklearn.metrics.accuracy_score.html)\n",
    " - [F1-score](http://scikit-learn.org/stable/modules/generated/sklearn.metrics.f1_score.html)\n",
    " - [Area under ROC-curve](http://scikit-learn.org/stable/modules/generated/sklearn.metrics.roc_auc_score.html)\n",
    " - [Area under precision-recall curve](http://scikit-learn.org/stable/modules/generated/sklearn.metrics.average_precision_score.html#sklearn.metrics.average_precision_score) \n",
    " \n",
    "Make sure you are familiar with all of them. How would you expect the things work for the multi-label scenario? Read about micro/macro/weighted averaging following the sklearn links provided above."
   ]
  },
  {
   "cell_type": "code",
   "execution_count": 170,
   "metadata": {},
   "outputs": [],
   "source": [
    "from sklearn.metrics import accuracy_score\n",
    "from sklearn.metrics import f1_score\n",
    "from sklearn.metrics import roc_auc_score \n",
    "from sklearn.metrics import average_precision_score\n",
    "from sklearn.metrics import recall_score"
   ]
  },
  {
   "cell_type": "markdown",
   "metadata": {},
   "source": [
    "Implement the function *print_evaluation_scores* which calculates and prints to stdout:\n",
    " - *accuracy*\n",
    " - *F1-score macro/micro/weighted*\n",
    " - *Precision macro/micro/weighted*"
   ]
  },
  {
   "cell_type": "code",
   "execution_count": 171,
   "metadata": {},
   "outputs": [],
   "source": [
    "def print_evaluation_scores(y_val, predicted):\n",
    "    accuracy = accuracy_score(y_val, predicted)\n",
    "    print(\"accuracy:\", accuracy)\n",
    "    \n",
    "    f1_micro = f1_score(y_true=y_val, y_pred=predicted, average=\"micro\")\n",
    "    f1_macro = f1_score(y_true=y_val, y_pred=predicted, average=\"macro\")\n",
    "    f1_weighted = f1_score(y_true=y_val, y_pred=predicted, average=\"weighted\")\n",
    "    print(\"f1 score (macro/micro/weighted) is:\", f1_macro, f1_micro, f1_weighted)\n",
    "    \n",
    "    pre_macro = average_precision_score(y_true=y_val, y_score=predicted, average=\"macro\")\n",
    "    pre_micro = average_precision_score(y_true=y_val, y_score=predicted, average=\"micro\")\n",
    "    pre_weighted = average_precision_score(y_true=y_val, y_score=predicted, average=\"weighted\")\n",
    "    print(\"precision (macro/micro/weighted) is:\", pre_macro, pre_micro, pre_weighted)\n",
    "    \n",
    "    ######################################\n",
    "    ######### YOUR CODE HERE #############\n",
    "    ######################################\n",
    "    "
   ]
  },
  {
   "cell_type": "code",
   "execution_count": 172,
   "metadata": {},
   "outputs": [
    {
     "name": "stdout",
     "output_type": "stream",
     "text": [
      "Bag-of-words\n",
      "accuracy: 0.358033333333\n",
      "f1 score (macro/micro/weighted) is: 0.50457337602 0.671101871102 0.648702711838\n",
      "precision (macro/micro/weighted) is: 0.344469961324 0.481253129197 0.510823105257\n",
      "Tfidf\n",
      "accuracy: 0.3383\n",
      "f1 score (macro/micro/weighted) is: 0.457215219553 0.645696516331 0.618922132352\n",
      "precision (macro/micro/weighted) is: 0.310358710464 0.459930776467 0.488195129951\n"
     ]
    }
   ],
   "source": [
    "print('Bag-of-words')\n",
    "print_evaluation_scores(y_val, y_val_predicted_labels_mybag)\n",
    "print('Tfidf')\n",
    "print_evaluation_scores(y_val, y_val_predicted_labels_tfidf)"
   ]
  },
  {
   "cell_type": "markdown",
   "metadata": {},
   "source": [
    "You might also want to plot some generalization of the [ROC curve](http://scikit-learn.org/stable/modules/model_evaluation.html#receiver-operating-characteristic-roc) for the case of multi-label classification. Provided function *roc_auc* can make it for you. The input parameters of this function are:\n",
    " - true labels\n",
    " - decision functions scores\n",
    " - number of classes"
   ]
  },
  {
   "cell_type": "code",
   "execution_count": 173,
   "metadata": {},
   "outputs": [],
   "source": [
    "from metrics import roc_auc\n",
    "%matplotlib inline"
   ]
  },
  {
   "cell_type": "code",
   "execution_count": 174,
   "metadata": {},
   "outputs": [
    {
     "data": {
      "image/png": "[encoded data removed]",
      "text/plain": [
       "<matplotlib.figure.Figure at 0x7fe9ec7a3048>"
      ]
     },
     "metadata": {},
     "output_type": "display_data"
    }
   ],
   "source": [
    "n_classes = len(tags_counts)\n",
    "roc_auc(y_val, y_val_predicted_scores_mybag, n_classes)"
   ]
  },
  {
   "cell_type": "code",
   "execution_count": 175,
   "metadata": {},
   "outputs": [
    {
     "data": {
      "image/png": "[encoded data removed]",
      "text/plain": [
       "<matplotlib.figure.Figure at 0x7fe9f5bd48d0>"
      ]
     },
     "metadata": {},
     "output_type": "display_data"
    }
   ],
   "source": [
    "n_classes = len(tags_counts)\n",
    "roc_auc(y_val, y_val_predicted_scores_tfidf, n_classes)"
   ]
  },
  {
   "cell_type": "markdown",
   "metadata": {},
   "source": [
    "**Task 4 (MultilabelClassification).** Once we have the evaluation set up, we suggest that you experiment a bit with training your classifiers. We will use *F1-score weighted* as an evaluation metric. Our recommendation:\n",
    "- compare the quality of the bag-of-words and TF-IDF approaches and chose one of them.\n",
    "- for the chosen one, try *L1* and *L2*-regularization techniques in Logistic Regression with different coefficients (e.g. C equal to 0.1, 1, 10, 100).\n",
    "\n",
    "You also could try other improvements of the preprocessing / model, if you want. "
   ]
  },
  {
   "cell_type": "code",
   "execution_count": 208,
   "metadata": {},
   "outputs": [],
   "source": [
    "######################################\n",
    "######### YOUR CODE HERE #############\n",
    "######################################\n",
    "from scipy.stats import uniform\n",
    "from sklearn.model_selection import RandomizedSearchCV\n",
    "\n",
    "def experiment_classifier(X_train, y_train):\n",
    "    \"\"\"\n",
    "      X_train, y_train — training data\n",
    "      \n",
    "      return: trained classifier\n",
    "    \"\"\"\n",
    "    C_lis = [0.1, 1.0, 10, 100]\n",
    "    # Create and fit LogisticRegression wraped into OneVsRestClassifier.\n",
    "    for C in C_lis:\n",
    "        print(C)\n",
    "        classifier = OneVsRestClassifier(estimator=LogisticRegression(penalty='l2', dual=False, tol=0.0001, C=C), n_jobs=1)\n",
    "        classifier.fit(X_train, y_train)\n",
    "        y_val_predicted_labels_tfidf = classifier.predict(X_val_tfidf)\n",
    "        print_evaluation_scores(y_val, y_val_predicted_labels_tfidf)"
   ]
  },
  {
   "cell_type": "code",
   "execution_count": 209,
   "metadata": {},
   "outputs": [
    {
     "name": "stdout",
     "output_type": "stream",
     "text": [
      "0.1\n",
      "accuracy: 0.204333333333\n"
     ]
    },
    {
     "name": "stderr",
     "output_type": "stream",
     "text": [
      "/usr/local/lib/python3.5/dist-packages/sklearn/metrics/classification.py:1135: UndefinedMetricWarning: F-score is ill-defined and being set to 0.0 in labels with no predicted samples.\n",
      "  'precision', 'predicted', average, warn_for)\n"
     ]
    },
    {
     "name": "stdout",
     "output_type": "stream",
     "text": [
      "f1 score (macro/micro/weighted) is: 0.189258701329 0.474407086875 0.436100084254\n",
      "precision (macro/micro/weighted) is: 0.129340107697 0.310910449337 0.345039640986\n",
      "1.0\n",
      "accuracy: 0.3383\n",
      "f1 score (macro/micro/weighted) is: 0.457215219553 0.645696516331 0.618922132352\n",
      "precision (macro/micro/weighted) is: 0.310358710464 0.459930776467 0.488195129951\n",
      "10\n",
      "accuracy: 0.363733333333\n",
      "f1 score (macro/micro/weighted) is: 0.50395758605 0.674736766707 0.65278348714\n",
      "precision (macro/micro/weighted) is: 0.337136377601 0.482246103689 0.510597883108\n",
      "100\n",
      "accuracy: 0.338933333333\n",
      "f1 score (macro/micro/weighted) is: 0.484124636411 0.657040844352 0.641049898379\n",
      "precision (macro/micro/weighted) is: 0.302410676968 0.449688434017 0.486892476521\n"
     ]
    }
   ],
   "source": [
    "experiment_classifier(X_train_tfidf, y_train)"
   ]
  },
  {
   "cell_type": "code",
   "execution_count": 215,
   "metadata": {},
   "outputs": [],
   "source": [
    "def train_classifier(X_train, y_train, C_value=10):\n",
    "    \"\"\"\n",
    "      X_train, y_train — training data\n",
    "      \n",
    "      return: trained classifier\n",
    "    \"\"\"\n",
    "    \n",
    "    # Create and fit LogisticRegression wraped into OneVsRestClassifier.\n",
    "    classifier = OneVsRestClassifier(estimator=LogisticRegression(penalty='l2', dual=False, tol=0.0001, C=C_value), n_jobs=1)\n",
    "    classifier.fit(X_train, y_train)\n",
    "    \n",
    "    ######################################\n",
    "    ######### YOUR CODE HERE #############\n",
    "    ######################################    \n",
    "    \n",
    "    return classifier"
   ]
  },
  {
   "cell_type": "code",
   "execution_count": 216,
   "metadata": {},
   "outputs": [],
   "source": [
    "classifier_tfidf = train_classifier(X_train_tfidf, y_train)"
   ]
  },
  {
   "cell_type": "markdown",
   "metadata": {},
   "source": [
    "When you are happy with the quality, create predictions for *test* set, which you will submit to Coursera."
   ]
  },
  {
   "cell_type": "code",
   "execution_count": 217,
   "metadata": {},
   "outputs": [
    {
     "name": "stdout",
     "output_type": "stream",
     "text": [
      "Current answer for task MultilabelClassification is:\n",
      " 0\tmysql,php\n",
      "1\tjavascript,jquery\n",
      "2\t\n",
      "3\tjavascript,jquery\n",
      "4\tandroid\n",
      "5\tphp,xml\n",
      "6\tajax,json,web-services\n",
      "...\n"
     ]
    }
   ],
   "source": [
    "test_predictions = classifier_tfidf.predict(X=X_test_tfidf) ######### YOUR CODE HERE #############\n",
    "test_pred_inversed = mlb.inverse_transform(test_predictions)\n",
    "\n",
    "test_predictions_for_submission = '\\n'.join('%i\\t%s' % (i, ','.join(row)) for i, row in enumerate(test_pred_inversed))\n",
    "grader.submit_tag('MultilabelClassification', test_predictions_for_submission)"
   ]
  },
  {
   "cell_type": "markdown",
   "metadata": {},
   "source": [
    "### Analysis of the most important features"
   ]
  },
  {
   "cell_type": "markdown",
   "metadata": {},
   "source": [
    "Finally, it is usually a good idea to look at the features (words or n-grams) that are used with the largest weigths in your logistic regression model."
   ]
  },
  {
   "cell_type": "markdown",
   "metadata": {},
   "source": [
    "Implement the function *print_words_for_tag* to find them. Get back to sklearn documentation on [OneVsRestClassifier](http://scikit-learn.org/stable/modules/generated/sklearn.multiclass.OneVsRestClassifier.html) and [LogisticRegression](http://scikit-learn.org/stable/modules/generated/sklearn.linear_model.LogisticRegression.html) if needed."
   ]
  },
  {
   "cell_type": "code",
   "execution_count": 218,
   "metadata": {},
   "outputs": [
    {
     "data": {
      "text/plain": [
       "['java', 'list', 'generics']"
      ]
     },
     "execution_count": 218,
     "metadata": {},
     "output_type": "execute_result"
    }
   ],
   "source": [
    "tags"
   ]
  },
  {
   "cell_type": "code",
   "execution_count": 219,
   "metadata": {},
   "outputs": [
    {
     "data": {
      "text/plain": [
       "array([[0, 1, 0, 0, 0, 0, 0, 0, 0, 0, 0, 0, 0, 0, 0, 0, 0, 0, 0, 0, 0, 0,\n",
       "        0, 0, 0, 0, 0, 0, 0, 0, 0, 0, 0, 0, 0, 0, 0, 0, 0, 0, 0, 0, 0, 0,\n",
       "        0, 0, 0, 0, 0, 0, 0, 0, 0, 0, 0, 0, 0, 0, 0, 0, 0, 0, 0, 0, 0, 0,\n",
       "        0, 0, 0, 0, 0, 0, 0, 0, 0, 0, 0, 0, 0, 0, 0, 0, 0, 0, 0, 0, 0, 0,\n",
       "        0, 0, 0, 0, 0, 0, 0, 0, 0, 0, 0, 0],\n",
       "       [0, 0, 1, 0, 0, 0, 0, 0, 0, 0, 0, 0, 0, 0, 0, 0, 0, 0, 0, 0, 0, 0,\n",
       "        0, 0, 0, 0, 0, 0, 0, 0, 0, 0, 0, 0, 0, 0, 0, 0, 0, 0, 0, 0, 0, 0,\n",
       "        0, 0, 0, 0, 0, 0, 0, 0, 0, 0, 0, 0, 0, 0, 0, 0, 0, 0, 0, 0, 0, 0,\n",
       "        0, 0, 0, 0, 0, 0, 0, 0, 0, 0, 0, 0, 0, 0, 0, 0, 0, 0, 0, 0, 0, 0,\n",
       "        0, 0, 0, 0, 0, 0, 0, 0, 0, 0, 0, 0]])"
      ]
     },
     "execution_count": 219,
     "metadata": {},
     "output_type": "execute_result"
    }
   ],
   "source": [
    "classifier_tfidf.label_binarizer_.transform([1,2]).toarray()"
   ]
  },
  {
   "cell_type": "code",
   "execution_count": 220,
   "metadata": {},
   "outputs": [],
   "source": [
    "logis = classifier_tfidf.estimators_[0]"
   ]
  },
  {
   "cell_type": "code",
   "execution_count": 221,
   "metadata": {},
   "outputs": [
    {
     "data": {
      "text/plain": [
       "array([ 5.23353195,  5.26279647,  5.53469328,  7.63822028,  8.19214891])"
      ]
     },
     "execution_count": 221,
     "metadata": {},
     "output_type": "execute_result"
    }
   ],
   "source": [
    "coefs = logis.coef_[0]\n",
    "coefs[coefs.argsort()[-5:]]"
   ]
  },
  {
   "cell_type": "code",
   "execution_count": 222,
   "metadata": {},
   "outputs": [],
   "source": [
    "def print_words_for_tag(classifier, tag, tags_classes, index_to_words, all_words):\n",
    "    \"\"\"\n",
    "        classifier: trained classifier\n",
    "        tag: particular tag\n",
    "        tags_classes: a list of classes names from MultiLabelBinarizer\n",
    "        index_to_words: index_to_words transformation\n",
    "        all_words: all words in the dictionary\n",
    "        \n",
    "        return nothing, just print top 5 positive and top 5 negative words for current tag\n",
    "    \"\"\"\n",
    "    print('Tag:\\t{}'.format(tag))\n",
    "    idx = tags_classes.index(tag)\n",
    "    print('Tag Index:\\t{}'.format(idx))\n",
    "    # Extract an estimator from the classifier for the given tag.\n",
    "    # Extract feature coefficients from the estimator. \n",
    "    estimator = classifier_tfidf.estimators_[idx]\n",
    "    idxList = estimator.coef_[0].argsort()\n",
    "    \n",
    "    ######################################\n",
    "    ######### YOUR CODE HERE #############\n",
    "    ######################################\n",
    "    wordlist = lambda lis:[index_to_words[i] for i in lis]\n",
    "    top_positive_words = wordlist(idxList[-5:])# top-5 words sorted by the coefficiens.\n",
    "    top_negative_words = wordlist(idxList[:5])# bottom-5 words  sorted by the coefficients.\n",
    "    print('Top positive words:\\t{}'.format(', '.join(top_positive_words)))\n",
    "    print('Top negative words:\\t{}\\n'.format(', '.join(top_negative_words)))"
   ]
  },
  {
   "cell_type": "code",
   "execution_count": 223,
   "metadata": {},
   "outputs": [
    {
     "name": "stdout",
     "output_type": "stream",
     "text": [
      "Tag:\tc\n",
      "Tag Index:\t9\n",
      "Top positive words:\tprintf, fscanf, malloc, scanf, c\n",
      "Top negative words:\tobjective, php, java, python, javascript\n",
      "\n",
      "Tag:\tc++\n",
      "Tag Index:\t11\n",
      "Top positive words:\tboostasio, mfc, boost, qt, c++\n",
      "Top negative words:\tphp, java, javascript, python, c#\n",
      "\n",
      "Tag:\tlinux\n",
      "Tag Index:\t44\n",
      "Top positive words:\tsignal, centos, poll, killed, linux\n",
      "Top negative words:\tjavascript, c#, aspnet, codeigniter, jquery\n",
      "\n"
     ]
    }
   ],
   "source": [
    "print_words_for_tag(classifier_tfidf, 'c', mlb.classes, tfidf_reversed_vocab, ALL_WORDS)\n",
    "print_words_for_tag(classifier_tfidf, 'c++', mlb.classes, tfidf_reversed_vocab, ALL_WORDS)\n",
    "print_words_for_tag(classifier_tfidf, 'linux', mlb.classes, tfidf_reversed_vocab, ALL_WORDS)"
   ]
  },
  {
   "cell_type": "markdown",
   "metadata": {},
   "source": [
    "### Authorization & Submission\n",
    "To submit assignment parts to Cousera platform, please, enter your e-mail and token into variables below. You can generate token on this programming assignment page. <b>Note:</b> Token expires 30 minutes after generation."
   ]
  },
  {
   "cell_type": "code",
   "execution_count": 193,
   "metadata": {},
   "outputs": [
    {
     "name": "stdout",
     "output_type": "stream",
     "text": [
      "You want to submit these parts:\n",
      "Task TextPrepare:\n",
      " sqlite php readonly\n",
      "creating multiple textboxes dynamically\n",
      "self one prefer javascript\n",
      "save php date...\n",
      "Task WordsTagsCount:\n",
      " javascript,c#,java\n",
      "using,php,java...\n",
      "Task BagOfWords:\n",
      " 7...\n",
      "Task MultilabelClassification:\n",
      " 0\tmysql,php\n",
      "1\tjavascript\n",
      "2\t\n",
      "3\tjavascript,jquery\n",
      "4\tandroid,java\n",
      "5\tphp,xml\n",
      "6\tajax,json,web-services\n",
      "7\t...\n"
     ]
    }
   ],
   "source": [
    "grader.status()"
   ]
  },
  {
   "cell_type": "code",
   "execution_count": 224,
   "metadata": {},
   "outputs": [
    {
     "name": "stdout",
     "output_type": "stream",
     "text": [
      "You want to submit these parts:\n",
      "Task TextPrepare:\n",
      " sqlite php readonly\n",
      "creating multiple textboxes dynamically\n",
      "self one prefer javascript\n",
      "save php date...\n",
      "Task WordsTagsCount:\n",
      " javascript,c#,java\n",
      "using,php,java...\n",
      "Task BagOfWords:\n",
      " 7...\n",
      "Task MultilabelClassification:\n",
      " 0\tmysql,php\n",
      "1\tjavascript,jquery\n",
      "2\t\n",
      "3\tjavascript,jquery\n",
      "4\tandroid\n",
      "5\tphp,xml\n",
      "6\tajax,json,web-services\n",
      "...\n"
     ]
    }
   ],
   "source": [
    "STUDENT_EMAIL = '2289710010@qq.com' # EMAIL \n",
    "STUDENT_TOKEN = 'H1qzds54qxD7bZa2' # TOKEN \n",
    "grader.status()"
   ]
  },
  {
   "cell_type": "markdown",
   "metadata": {},
   "source": [
    "If you want to submit these answers, run cell below"
   ]
  },
  {
   "cell_type": "code",
   "execution_count": 225,
   "metadata": {},
   "outputs": [
    {
     "name": "stdout",
     "output_type": "stream",
     "text": [
      "Submitted to Coursera platform. See results on assignment page!\n"
     ]
    }
   ],
   "source": [
    "grader.submit(STUDENT_EMAIL, STUDENT_TOKEN)"
   ]
  },
  {
   "cell_type": "code",
   "execution_count": null,
   "metadata": {},
   "outputs": [],
   "source": []
  }
 ],
 "metadata": {
  "kernelspec": {
   "display_name": "Python 3",
   "language": "python",
   "name": "python3"
  },
  "language_info": {
   "codemirror_mode": {
    "name": "ipython",
    "version": 3
   },
   "file_extension": ".py",
   "mimetype": "text/x-python",
   "name": "python",
   "nbconvert_exporter": "python",
   "pygments_lexer": "ipython3",
   "version": "3.5.2"
  }
 },
 "nbformat": 4,
 "nbformat_minor": 2
}
